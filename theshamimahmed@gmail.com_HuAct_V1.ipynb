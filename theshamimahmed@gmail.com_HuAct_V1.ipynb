{
 "cells": [
  {
   "cell_type": "markdown",
   "metadata": {
    "colab_type": "text",
    "id": "MqcrFxhTS5i3"
   },
   "source": [
    "# Human Activity Recognition"
   ]
  },
  {
   "cell_type": "code",
   "execution_count": 1,
   "metadata": {
    "colab": {},
    "colab_type": "code",
    "id": "wkXA5VRGSnSH"
   },
   "outputs": [],
   "source": [
    "import pandas as pd\n",
    "import numpy as np"
   ]
  },
  {
   "cell_type": "code",
   "execution_count": 2,
   "metadata": {
    "colab": {},
    "colab_type": "code",
    "id": "QjctmdY4TDCd"
   },
   "outputs": [],
   "source": [
    "# Activities are the class labels\n",
    "# It is a 6 class classification\n",
    "ACTIVITIES = {\n",
    "    0: 'WALKING',\n",
    "    1: 'WALKING_UPSTAIRS',\n",
    "    2: 'WALKING_DOWNSTAIRS',\n",
    "    3: 'SITTING',\n",
    "    4: 'STANDING',\n",
    "    5: 'LAYING',\n",
    "}\n",
    "\n",
    "# Utility function to print the confusion matrix\n",
    "def confusion_matrix(Y_true, Y_pred):\n",
    "    Y_true = pd.Series([ACTIVITIES[y] for y in np.argmax(Y_true, axis=1)])\n",
    "    Y_pred = pd.Series([ACTIVITIES[y] for y in np.argmax(Y_pred, axis=1)])\n",
    "\n",
    "    return pd.crosstab(Y_true, Y_pred, rownames=['True'], colnames=['Pred'])"
   ]
  },
  {
   "cell_type": "markdown",
   "metadata": {
    "colab_type": "text",
    "id": "CEX8na22WVhA"
   },
   "source": [
    "### Data"
   ]
  },
  {
   "cell_type": "code",
   "execution_count": 4,
   "metadata": {
    "colab": {},
    "colab_type": "code",
    "id": "6PTwb5hYWUXd"
   },
   "outputs": [],
   "source": [
    "# Raw data signals\n",
    "# Signals are from Accelerometer and Gyroscope\n",
    "# The signals are in x,y,z directions\n",
    "# Sensor signals are filtered to have only body acceleration\n",
    "# excluding the acceleration due to gravity\n",
    "# Triaxial acceleration from the accelerometer is total acceleration\n",
    "SIGNALS = [\n",
    "    \"body_acc_x\",\n",
    "    \"body_acc_y\",\n",
    "    \"body_acc_z\",\n",
    "    \"body_gyro_x\",\n",
    "    \"body_gyro_y\",\n",
    "    \"body_gyro_z\",\n",
    "    \"total_acc_x\",\n",
    "    \"total_acc_y\",\n",
    "    \"total_acc_z\"\n",
    "]"
   ]
  },
  {
   "cell_type": "code",
   "execution_count": 4,
   "metadata": {
    "colab": {
     "base_uri": "https://localhost:8080/",
     "height": 54
    },
    "colab_type": "code",
    "id": "7uEU8qt0W9xp",
    "outputId": "32fcc8e9-20c7-4681-bfda-3bb6e8d6c94b"
   },
   "outputs": [
    {
     "data": {
      "text/plain": [
       "'\\n\\n# Code to read csv file into Colaboratory from google drive:\\n\\n!pip install -U -q PyDrive\\nfrom pydrive.auth import GoogleAuth\\nfrom pydrive.drive import GoogleDrive\\nfrom google.colab import auth\\nfrom oauth2client.client import GoogleCredentials\\n\\n# Authenticate and create the PyDrive client.\\nauth.authenticate_user()\\ngauth = GoogleAuth()\\ngauth.credentials = GoogleCredentials.get_application_default()\\ndrive = GoogleDrive(gauth)\\n\\n'"
      ]
     },
     "execution_count": 4,
     "metadata": {},
     "output_type": "execute_result"
    }
   ],
   "source": [
    "'''\n",
    "\n",
    "# Code to read csv file into Colaboratory from google drive:\n",
    "\n",
    "!pip install -U -q PyDrive\n",
    "from pydrive.auth import GoogleAuth\n",
    "from pydrive.drive import GoogleDrive\n",
    "from google.colab import auth\n",
    "from oauth2client.client import GoogleCredentials\n",
    "\n",
    "# Authenticate and create the PyDrive client.\n",
    "auth.authenticate_user()\n",
    "gauth = GoogleAuth()\n",
    "gauth.credentials = GoogleCredentials.get_application_default()\n",
    "drive = GoogleDrive(gauth)\n",
    "\n",
    "'''"
   ]
  },
  {
   "cell_type": "code",
   "execution_count": 0,
   "metadata": {
    "colab": {},
    "colab_type": "code",
    "id": "f1bNJM4gXFlF"
   },
   "outputs": [],
   "source": [
    "'''\n",
    "link = 'https://drive.google.com/open?id=1Kg_2TU9eHe-oxO3vZdz-d5QFUx3vcTS4' #X_train\n",
    "link1 = 'https://drive.google.com/open?id=12S6ntD_pIBvPNVsAlxmSDeEbvi2YGnrd' # X_test\n",
    "link2 = 'https://drive.google.com/open?id=1IuMv7H7XPxp7JrGixKW4JcXJ3PLvMGh6' #y_train\n",
    "link3 = 'https://drive.google.com/open?id=1oDp9e3Pf1kmCnfgAzL0xTQgCsPw8nB_B' #y_test\n",
    "\n",
    "'''"
   ]
  },
  {
   "cell_type": "code",
   "execution_count": 17,
   "metadata": {
    "colab": {
     "base_uri": "https://localhost:8080/",
     "height": 35
    },
    "colab_type": "code",
    "id": "LFevP-QEXx53",
    "outputId": "ec29fdc4-afef-4624-8993-56b0a3948094"
   },
   "outputs": [
    {
     "name": "stdout",
     "output_type": "stream",
     "text": [
      "1oDp9e3Pf1kmCnfgAzL0xTQgCsPw8nB_B\n"
     ]
    }
   ],
   "source": [
    "#fluff, id = link3.split('=')\n",
    "\n",
    "#print (id)"
   ]
  },
  {
   "cell_type": "code",
   "execution_count": 0,
   "metadata": {
    "colab": {},
    "colab_type": "code",
    "id": "u3EZWVvXX3dh"
   },
   "outputs": [],
   "source": [
    "#downloaded = drive.CreateFile({'id':id}) \n",
    "#downloaded.GetContentFile('X_train.txt')"
   ]
  },
  {
   "cell_type": "code",
   "execution_count": 5,
   "metadata": {
    "colab": {},
    "colab_type": "code",
    "id": "EPFZXYhnWe6t"
   },
   "outputs": [],
   "source": [
    "# Utility function to read the data from csv file\n",
    "def _read_csv(filename):\n",
    "    return pd.read_csv(filename, delim_whitespace=True, header=None)\n",
    "\n",
    "# Utility function to load the load\n",
    "def load_signals(subset):\n",
    "    signals_data = []\n",
    "\n",
    "    for signal in SIGNALS:\n",
    "        filename = f'UCI_HAR_Dataset/{subset}/Inertial Signals/{signal}_{subset}.txt'\n",
    "        signals_data.append(\n",
    "            _read_csv(filename).as_matrix()\n",
    "        ) \n",
    "\n",
    "    # Transpose is used to change the dimensionality of the output,\n",
    "    # aggregating the signals by combination of sample/timestep.\n",
    "    # Resultant shape is (7352 train/2947 test samples, 128 timesteps, 9 signals)\n",
    "    return np.transpose(signals_data, (1, 2, 0))"
   ]
  },
  {
   "cell_type": "code",
   "execution_count": 6,
   "metadata": {
    "colab": {},
    "colab_type": "code",
    "id": "iw2e_E0LZ-CK"
   },
   "outputs": [],
   "source": [
    "def load_y(subset):\n",
    "    \"\"\"\n",
    "    The objective that we are trying to predict is a integer, from 1 to 6,\n",
    "    that represents a human activity. We return a binary representation of \n",
    "    every sample objective as a 6 bits vector using One Hot Encoding\n",
    "    (https://pandas.pydata.org/pandas-docs/stable/generated/pandas.get_dummies.html)\n",
    "    \"\"\"\n",
    "    filename = f'UCI_HAR_Dataset/{subset}/y_{subset}.txt'\n",
    "    y = _read_csv(filename)[0]\n",
    "\n",
    "    return pd.get_dummies(y).as_matrix()"
   ]
  },
  {
   "cell_type": "code",
   "execution_count": 7,
   "metadata": {
    "colab": {},
    "colab_type": "code",
    "id": "HLwKmwrxaFEB"
   },
   "outputs": [],
   "source": [
    "def load_data():\n",
    "    \"\"\"\n",
    "    Obtain the dataset from multiple files.\n",
    "    Returns: X_train, X_test, y_train, y_test\n",
    "    \"\"\"\n",
    "    X_train, X_test = load_signals('train'), load_signals('test')\n",
    "    y_train, y_test = load_y('train'), load_y('test')\n",
    "\n",
    "    return X_train, X_test, y_train, y_test"
   ]
  },
  {
   "cell_type": "code",
   "execution_count": 52,
   "metadata": {
    "colab": {},
    "colab_type": "code",
    "id": "1ozJTBk4aHjx"
   },
   "outputs": [],
   "source": [
    "# Importing tensorflow\n",
    "np.random.seed(42)\n",
    "import tensorflow as tf\n",
    "tf.set_random_seed(42)"
   ]
  },
  {
   "cell_type": "code",
   "execution_count": 9,
   "metadata": {
    "colab": {},
    "colab_type": "code",
    "id": "zN8ncVWOaJok"
   },
   "outputs": [],
   "source": [
    "# Configuring a session\n",
    "session_conf = tf.ConfigProto(\n",
    "    intra_op_parallelism_threads=1,\n",
    "    inter_op_parallelism_threads=1\n",
    ")"
   ]
  },
  {
   "cell_type": "code",
   "execution_count": 10,
   "metadata": {
    "colab": {
     "base_uri": "https://localhost:8080/",
     "height": 35
    },
    "colab_type": "code",
    "id": "F6a6NDIOaP9h",
    "outputId": "8da962e9-b267-4ddb-c250-c7ea5d236a68"
   },
   "outputs": [
    {
     "name": "stderr",
     "output_type": "stream",
     "text": [
      "Using TensorFlow backend.\n"
     ]
    }
   ],
   "source": [
    "# Import Keras\n",
    "from keras import backend as K\n",
    "sess = tf.Session(graph=tf.get_default_graph(), config=session_conf)\n",
    "K.set_session(sess)"
   ]
  },
  {
   "cell_type": "code",
   "execution_count": 11,
   "metadata": {
    "colab": {},
    "colab_type": "code",
    "id": "twVhyC9laSeW"
   },
   "outputs": [],
   "source": [
    "# Importing libraries\n",
    "from keras.models import Sequential\n",
    "from keras.layers import LSTM\n",
    "from keras.layers.core import Dense, Dropout"
   ]
  },
  {
   "cell_type": "code",
   "execution_count": 13,
   "metadata": {
    "colab": {},
    "colab_type": "code",
    "id": "L8hvwamoaWhN"
   },
   "outputs": [],
   "source": [
    "# Initializing parameters\n",
    "epochs = 20\n",
    "batch_size = 32\n",
    "n_hidden = 32"
   ]
  },
  {
   "cell_type": "code",
   "execution_count": 14,
   "metadata": {
    "colab": {},
    "colab_type": "code",
    "id": "83eI8_V8abAE"
   },
   "outputs": [],
   "source": [
    "# Utility function to count the number of classes\n",
    "def _count_classes(y):\n",
    "    return len(set([tuple(category) for category in y]))"
   ]
  },
  {
   "cell_type": "code",
   "execution_count": 64,
   "metadata": {
    "colab": {},
    "colab_type": "code",
    "id": "3Vap9kiUadl-"
   },
   "outputs": [
    {
     "name": "stderr",
     "output_type": "stream",
     "text": [
      "C:\\Users\\Shamim Ahmed\\Anaconda3\\lib\\site-packages\\ipykernel_launcher.py:12: FutureWarning: Method .as_matrix will be removed in a future version. Use .values instead.\n",
      "  if sys.path[0] == '':\n",
      "C:\\Users\\Shamim Ahmed\\Anaconda3\\lib\\site-packages\\ipykernel_launcher.py:11: FutureWarning: Method .as_matrix will be removed in a future version. Use .values instead.\n",
      "  # This is added back by InteractiveShellApp.init_path()\n"
     ]
    }
   ],
   "source": [
    "# Loading the train and test data\n",
    "X_train, X_test, Y_train, Y_test = load_data()"
   ]
  },
  {
   "cell_type": "code",
   "execution_count": 65,
   "metadata": {},
   "outputs": [
    {
     "name": "stdout",
     "output_type": "stream",
     "text": [
      "128\n",
      "9\n",
      "7352\n"
     ]
    }
   ],
   "source": [
    "timesteps = len(X_train[0])\n",
    "input_dim = len(X_train[0][0])\n",
    "n_classes = _count_classes(Y_train)\n",
    "\n",
    "print(timesteps)\n",
    "print(input_dim)\n",
    "print(len(X_train))"
   ]
  },
  {
   "cell_type": "markdown",
   "metadata": {},
   "source": [
    "#### Defining the Architecture of LSTM"
   ]
  },
  {
   "cell_type": "code",
   "execution_count": 17,
   "metadata": {},
   "outputs": [
    {
     "name": "stdout",
     "output_type": "stream",
     "text": [
      "_________________________________________________________________\n",
      "Layer (type)                 Output Shape              Param #   \n",
      "=================================================================\n",
      "lstm_2 (LSTM)                (None, 32)                5376      \n",
      "_________________________________________________________________\n",
      "dropout_2 (Dropout)          (None, 32)                0         \n",
      "_________________________________________________________________\n",
      "dense_2 (Dense)              (None, 6)                 198       \n",
      "=================================================================\n",
      "Total params: 5,574\n",
      "Trainable params: 5,574\n",
      "Non-trainable params: 0\n",
      "_________________________________________________________________\n"
     ]
    }
   ],
   "source": [
    "# Initialization\n",
    "model = Sequential()\n",
    "# configuring with parameters\n",
    "model.add(LSTM(n_hidden, input_shape=(timesteps, input_dim)))\n",
    "#Adding a dropout layer\n",
    "model.add(Dropout(0.5))\n",
    "#Adding dense layer\n",
    "model.add(Dense(n_classes, activation = 'sigmoid'))\n",
    "model.summary()"
   ]
  },
  {
   "cell_type": "code",
   "execution_count": 18,
   "metadata": {},
   "outputs": [],
   "source": [
    "# Compiling the model\n",
    "model.compile(loss='categorical_crossentropy',\n",
    "              optimizer='rmsprop',\n",
    "              metrics=['accuracy'])"
   ]
  },
  {
   "cell_type": "code",
   "execution_count": 19,
   "metadata": {},
   "outputs": [
    {
     "name": "stdout",
     "output_type": "stream",
     "text": [
      "Train on 7352 samples, validate on 2947 samples\n",
      "Epoch 1/30\n",
      "7352/7352 [==============================] - 48s 6ms/step - loss: 1.3960 - acc: 0.3681 - val_loss: 1.2606 - val_acc: 0.4337\n",
      "Epoch 2/30\n",
      "7352/7352 [==============================] - 45s 6ms/step - loss: 1.1265 - acc: 0.4986 - val_loss: 1.1264 - val_acc: 0.4727\n",
      "Epoch 3/30\n",
      "7352/7352 [==============================] - 85s 12ms/step - loss: 1.0019 - acc: 0.5449 - val_loss: 0.9544 - val_acc: 0.5741\n",
      "Epoch 4/30\n",
      "7352/7352 [==============================] - 124s 17ms/step - loss: 0.8440 - acc: 0.6209 - val_loss: 0.8784 - val_acc: 0.5914\n",
      "Epoch 5/30\n",
      "7352/7352 [==============================] - 124s 17ms/step - loss: 0.7386 - acc: 0.6481 - val_loss: 0.8611 - val_acc: 0.5935\n",
      "Epoch 6/30\n",
      "7352/7352 [==============================] - 124s 17ms/step - loss: 0.7624 - acc: 0.6353 - val_loss: 0.9017 - val_acc: 0.5864\n",
      "Epoch 7/30\n",
      "7352/7352 [==============================] - 127s 17ms/step - loss: 0.6645 - acc: 0.6640 - val_loss: 0.6681 - val_acc: 0.6162\n",
      "Epoch 8/30\n",
      "7352/7352 [==============================] - 129s 18ms/step - loss: 0.6460 - acc: 0.6851 - val_loss: 0.6809 - val_acc: 0.6135\n",
      "Epoch 9/30\n",
      "7352/7352 [==============================] - 128s 17ms/step - loss: 0.5765 - acc: 0.7121 - val_loss: 0.6124 - val_acc: 0.6807\n",
      "Epoch 10/30\n",
      "7352/7352 [==============================] - 127s 17ms/step - loss: 0.5393 - acc: 0.7601 - val_loss: 0.5380 - val_acc: 0.7397\n",
      "Epoch 11/30\n",
      "7352/7352 [==============================] - 127s 17ms/step - loss: 0.4637 - acc: 0.7975 - val_loss: 0.6335 - val_acc: 0.7238\n",
      "Epoch 12/30\n",
      "7352/7352 [==============================] - 127s 17ms/step - loss: 0.4141 - acc: 0.8252 - val_loss: 0.7027 - val_acc: 0.7570\n",
      "Epoch 13/30\n",
      "7352/7352 [==============================] - 127s 17ms/step - loss: 0.3732 - acc: 0.8794 - val_loss: 0.4991 - val_acc: 0.8544\n",
      "Epoch 14/30\n",
      "7352/7352 [==============================] - 127s 17ms/step - loss: 0.3349 - acc: 0.9029 - val_loss: 0.3707 - val_acc: 0.8602\n",
      "Epoch 15/30\n",
      "7352/7352 [==============================] - 129s 17ms/step - loss: 0.2677 - acc: 0.9163 - val_loss: 0.3907 - val_acc: 0.8690\n",
      "Epoch 16/30\n",
      "7352/7352 [==============================] - 127s 17ms/step - loss: 0.2882 - acc: 0.9135 - val_loss: 0.3232 - val_acc: 0.8839\n",
      "Epoch 17/30\n",
      "7352/7352 [==============================] - 129s 17ms/step - loss: 0.2404 - acc: 0.9249 - val_loss: 0.3698 - val_acc: 0.8656\n",
      "Epoch 18/30\n",
      "7352/7352 [==============================] - 131s 18ms/step - loss: 0.2267 - acc: 0.9347 - val_loss: 0.3346 - val_acc: 0.8873\n",
      "Epoch 19/30\n",
      "7352/7352 [==============================] - 126s 17ms/step - loss: 0.2111 - acc: 0.9314 - val_loss: 0.3247 - val_acc: 0.8901\n",
      "Epoch 20/30\n",
      "7352/7352 [==============================] - 126s 17ms/step - loss: 0.1960 - acc: 0.9348 - val_loss: 0.4490 - val_acc: 0.8880\n",
      "Epoch 21/30\n",
      "7352/7352 [==============================] - 127s 17ms/step - loss: 0.2113 - acc: 0.9377 - val_loss: 0.2936 - val_acc: 0.8955\n",
      "Epoch 22/30\n",
      "7352/7352 [==============================] - 128s 17ms/step - loss: 0.2029 - acc: 0.9365 - val_loss: 0.3299 - val_acc: 0.8948\n",
      "Epoch 23/30\n",
      "7352/7352 [==============================] - 129s 18ms/step - loss: 0.2018 - acc: 0.9385 - val_loss: 0.3521 - val_acc: 0.8846\n",
      "Epoch 24/30\n",
      "7352/7352 [==============================] - 130s 18ms/step - loss: 0.1832 - acc: 0.9384 - val_loss: 0.3525 - val_acc: 0.9006\n",
      "Epoch 25/30\n",
      "7352/7352 [==============================] - 130s 18ms/step - loss: 0.1821 - acc: 0.9429 - val_loss: 0.2901 - val_acc: 0.8907\n",
      "Epoch 26/30\n",
      "7352/7352 [==============================] - 132s 18ms/step - loss: 0.1741 - acc: 0.9450 - val_loss: 0.3229 - val_acc: 0.8938\n",
      "Epoch 27/30\n",
      "7352/7352 [==============================] - 130s 18ms/step - loss: 0.1603 - acc: 0.9465 - val_loss: 0.3957 - val_acc: 0.8853\n",
      "Epoch 28/30\n",
      "7352/7352 [==============================] - 133s 18ms/step - loss: 0.1709 - acc: 0.9442 - val_loss: 0.3341 - val_acc: 0.8938\n",
      "Epoch 29/30\n",
      "7352/7352 [==============================] - 142s 19ms/step - loss: 0.1918 - acc: 0.9382 - val_loss: 0.3940 - val_acc: 0.8850\n",
      "Epoch 30/30\n",
      "7352/7352 [==============================] - 130s 18ms/step - loss: 0.1698 - acc: 0.9450 - val_loss: 0.3981 - val_acc: 0.8904\n"
     ]
    },
    {
     "data": {
      "text/plain": [
       "<keras.callbacks.History at 0xebcabf3908>"
      ]
     },
     "execution_count": 19,
     "metadata": {},
     "output_type": "execute_result"
    }
   ],
   "source": [
    "# Training the model\n",
    "model.fit(X_train,\n",
    "          Y_train,\n",
    "          batch_size=batch_size,\n",
    "          validation_data=(X_test, Y_test),\n",
    "          epochs=epochs)"
   ]
  },
  {
   "cell_type": "code",
   "execution_count": 22,
   "metadata": {},
   "outputs": [
    {
     "name": "stdout",
     "output_type": "stream",
     "text": [
      "2947/2947 [==============================] - 5s 2ms/step\n"
     ]
    },
    {
     "data": {
      "text/plain": [
       "[0.39807603972119654, 0.8903970139124533]"
      ]
     },
     "execution_count": 22,
     "metadata": {},
     "output_type": "execute_result"
    }
   ],
   "source": [
    "score = model.evaluate(X_test, Y_test)\n",
    "score"
   ]
  },
  {
   "cell_type": "code",
   "execution_count": 20,
   "metadata": {
    "collapsed": true
   },
   "outputs": [
    {
     "name": "stdout",
     "output_type": "stream",
     "text": [
      "Pred                LAYING  SITTING  STANDING  WALKING  WALKING_DOWNSTAIRS  \\\n",
      "True                                                                         \n",
      "LAYING                 510        0        27        0                   0   \n",
      "SITTING                  2      377       108        0                   3   \n",
      "STANDING                 0       84       448        0                   0   \n",
      "WALKING                  0        0         0      450                  10   \n",
      "WALKING_DOWNSTAIRS       0        0         0        5                 406   \n",
      "WALKING_UPSTAIRS         0        0         0       25                  13   \n",
      "\n",
      "Pred                WALKING_UPSTAIRS  \n",
      "True                                  \n",
      "LAYING                             0  \n",
      "SITTING                            1  \n",
      "STANDING                           0  \n",
      "WALKING                           36  \n",
      "WALKING_DOWNSTAIRS                 9  \n",
      "WALKING_UPSTAIRS                 433  \n"
     ]
    }
   ],
   "source": [
    "# Confusion Matrix\n",
    "print(confusion_matrix(Y_test, model.predict(X_test)))"
   ]
  },
  {
   "cell_type": "markdown",
   "metadata": {},
   "source": [
    "## Using LSTM units and adam optimizer:"
   ]
  },
  {
   "cell_type": "code",
   "execution_count": 18,
   "metadata": {},
   "outputs": [
    {
     "name": "stdout",
     "output_type": "stream",
     "text": [
      "_________________________________________________________________\n",
      "Layer (type)                 Output Shape              Param #   \n",
      "=================================================================\n",
      "lstm_1 (LSTM)                (None, 50)                12000     \n",
      "_________________________________________________________________\n",
      "dropout_1 (Dropout)          (None, 50)                0         \n",
      "_________________________________________________________________\n",
      "dense_1 (Dense)              (None, 6)                 306       \n",
      "=================================================================\n",
      "Total params: 12,306\n",
      "Trainable params: 12,306\n",
      "Non-trainable params: 0\n",
      "_________________________________________________________________\n"
     ]
    }
   ],
   "source": [
    "# Initialization\n",
    "model = Sequential()\n",
    "# configuring with parameters\n",
    "model.add(LSTM(units=50, input_shape=(timesteps, input_dim)))\n",
    "#Adding a dropout layer\n",
    "model.add(Dropout(0.6))\n",
    "#Adding dense layer\n",
    "model.add(Dense(n_classes, activation = 'sigmoid'))\n",
    "model.summary()\n",
    "# Compiling the model\n",
    "model.compile(loss='categorical_crossentropy',optimizer='adam', metrics=['accuracy'])"
   ]
  },
  {
   "cell_type": "code",
   "execution_count": 20,
   "metadata": {
    "scrolled": true
   },
   "outputs": [
    {
     "name": "stdout",
     "output_type": "stream",
     "text": [
      "Train on 7352 samples, validate on 2947 samples\n",
      "Epoch 1/20\n",
      "7352/7352 [==============================] - 27s 4ms/step - loss: 1.2630 - acc: 0.4274 - val_loss: 1.4146 - val_acc: 0.2582\n",
      "Epoch 2/20\n",
      "7352/7352 [==============================] - 28s 4ms/step - loss: 1.2912 - acc: 0.3980 - val_loss: 1.3180 - val_acc: 0.4628\n",
      "Epoch 3/20\n",
      "7352/7352 [==============================] - 27s 4ms/step - loss: 1.2529 - acc: 0.4282 - val_loss: 1.3501 - val_acc: 0.4201\n",
      "Epoch 4/20\n",
      "7352/7352 [==============================] - 26s 4ms/step - loss: 1.3423 - acc: 0.4321 - val_loss: 1.2126 - val_acc: 0.5497\n",
      "Epoch 5/20\n",
      "7352/7352 [==============================] - 27s 4ms/step - loss: 1.2102 - acc: 0.4778 - val_loss: 1.1773 - val_acc: 0.4805\n",
      "Epoch 6/20\n",
      "7352/7352 [==============================] - 29s 4ms/step - loss: 1.1754 - acc: 0.4799 - val_loss: 1.3501 - val_acc: 0.3627\n",
      "Epoch 7/20\n",
      "7352/7352 [==============================] - 27s 4ms/step - loss: 1.2842 - acc: 0.4361 - val_loss: 1.2743 - val_acc: 0.5076\n",
      "Epoch 8/20\n",
      "7352/7352 [==============================] - 26s 4ms/step - loss: 1.2050 - acc: 0.5046 - val_loss: 1.1863 - val_acc: 0.5127\n",
      "Epoch 9/20\n",
      "7352/7352 [==============================] - 26s 4ms/step - loss: 1.0916 - acc: 0.5313 - val_loss: 1.0969 - val_acc: 0.5090\n",
      "Epoch 10/20\n",
      "7352/7352 [==============================] - 27s 4ms/step - loss: 1.0108 - acc: 0.5507 - val_loss: 1.0445 - val_acc: 0.5209\n",
      "Epoch 11/20\n",
      "7352/7352 [==============================] - 28s 4ms/step - loss: 0.9969 - acc: 0.5631 - val_loss: 1.0500 - val_acc: 0.5100\n",
      "Epoch 12/20\n",
      "7352/7352 [==============================] - 27s 4ms/step - loss: 1.2033 - acc: 0.5045 - val_loss: 1.1557 - val_acc: 0.4578\n",
      "Epoch 13/20\n",
      "7352/7352 [==============================] - 27s 4ms/step - loss: 1.1006 - acc: 0.5107 - val_loss: 1.1439 - val_acc: 0.4798\n",
      "Epoch 14/20\n",
      "7352/7352 [==============================] - 27s 4ms/step - loss: 1.1357 - acc: 0.5165 - val_loss: 1.0948 - val_acc: 0.4995\n",
      "Epoch 15/20\n",
      "7352/7352 [==============================] - 27s 4ms/step - loss: 1.3498 - acc: 0.4109 - val_loss: 1.2969 - val_acc: 0.4503\n",
      "Epoch 16/20\n",
      "7352/7352 [==============================] - 27s 4ms/step - loss: 1.2417 - acc: 0.4706 - val_loss: 1.2664 - val_acc: 0.5066\n",
      "Epoch 17/20\n",
      "7352/7352 [==============================] - 27s 4ms/step - loss: 1.2007 - acc: 0.4967 - val_loss: 1.1903 - val_acc: 0.5711\n",
      "Epoch 18/20\n",
      "7352/7352 [==============================] - 27s 4ms/step - loss: 1.1122 - acc: 0.5331 - val_loss: 1.0843 - val_acc: 0.5894\n",
      "Epoch 19/20\n",
      "7352/7352 [==============================] - 27s 4ms/step - loss: 1.0250 - acc: 0.5543 - val_loss: 1.0557 - val_acc: 0.5782\n",
      "Epoch 20/20\n",
      "7352/7352 [==============================] - 27s 4ms/step - loss: 0.9277 - acc: 0.5687 - val_loss: 0.9259 - val_acc: 0.5999\n",
      "2947/2947 [==============================] - 2s 657us/step\n",
      "[0.9259312011688331, 0.5999321343941652]\n"
     ]
    }
   ],
   "source": [
    "history = model.fit(X_train, Y_train, batch_size=batch_size, validation_data=(X_test, Y_test), epochs=epochs)\n",
    "score = model.evaluate(X_test, Y_test)\n",
    "print(score)"
   ]
  },
  {
   "cell_type": "code",
   "execution_count": 25,
   "metadata": {},
   "outputs": [
    {
     "name": "stdout",
     "output_type": "stream",
     "text": [
      "_________________________________________________________________\n",
      "Layer (type)                 Output Shape              Param #   \n",
      "=================================================================\n",
      "lstm_4 (LSTM)                (None, 32)                5376      \n",
      "_________________________________________________________________\n",
      "dropout_4 (Dropout)          (None, 32)                0         \n",
      "_________________________________________________________________\n",
      "dense_4 (Dense)              (None, 6)                 198       \n",
      "=================================================================\n",
      "Total params: 5,574\n",
      "Trainable params: 5,574\n",
      "Non-trainable params: 0\n",
      "_________________________________________________________________\n"
     ]
    }
   ],
   "source": [
    "# Initialization\n",
    "model = Sequential()\n",
    "# configuring with parameters\n",
    "model.add(LSTM(units=32, input_shape=(timesteps, input_dim)))\n",
    "#Adding a dropout layer\n",
    "model.add(Dropout(0.4))\n",
    "#Adding dense layer\n",
    "model.add(Dense(n_classes, activation = 'sigmoid'))\n",
    "model.summary()\n",
    "# Compiling the model\n",
    "model.compile(loss='categorical_crossentropy',optimizer='adam', metrics=['accuracy'])"
   ]
  },
  {
   "cell_type": "code",
   "execution_count": 23,
   "metadata": {
    "scrolled": false
   },
   "outputs": [
    {
     "name": "stdout",
     "output_type": "stream",
     "text": [
      "Train on 7352 samples, validate on 2947 samples\n",
      "Epoch 1/20\n",
      "7352/7352 [==============================] - 24s 3ms/step - loss: 1.4281 - acc: 0.4030 - val_loss: 1.2541 - val_acc: 0.4581\n",
      "Epoch 2/20\n",
      "7352/7352 [==============================] - 23s 3ms/step - loss: 1.2154 - acc: 0.4491 - val_loss: 1.2486 - val_acc: 0.4818\n",
      "Epoch 3/20\n",
      "7352/7352 [==============================] - 23s 3ms/step - loss: 1.2854 - acc: 0.4162 - val_loss: 1.3135 - val_acc: 0.3950\n",
      "Epoch 4/20\n",
      "7352/7352 [==============================] - 24s 3ms/step - loss: 1.1853 - acc: 0.4716 - val_loss: 1.4516 - val_acc: 0.3437\n",
      "Epoch 5/20\n",
      "7352/7352 [==============================] - 22s 3ms/step - loss: 1.2143 - acc: 0.4548 - val_loss: 1.4385 - val_acc: 0.3933\n",
      "Epoch 6/20\n",
      "7352/7352 [==============================] - 24s 3ms/step - loss: 1.2688 - acc: 0.4211 - val_loss: 1.1763 - val_acc: 0.5070\n",
      "Epoch 7/20\n",
      "7352/7352 [==============================] - 24s 3ms/step - loss: 1.0020 - acc: 0.5256 - val_loss: 1.0492 - val_acc: 0.5059\n",
      "Epoch 8/20\n",
      "7352/7352 [==============================] - 24s 3ms/step - loss: 1.0546 - acc: 0.5049 - val_loss: 1.5267 - val_acc: 0.3478\n",
      "Epoch 9/20\n",
      "7352/7352 [==============================] - 23s 3ms/step - loss: 1.3753 - acc: 0.3478 - val_loss: 1.3442 - val_acc: 0.3444\n",
      "Epoch 10/20\n",
      "7352/7352 [==============================] - 22s 3ms/step - loss: 1.2389 - acc: 0.4430 - val_loss: 1.1910 - val_acc: 0.5025\n",
      "Epoch 11/20\n",
      "7352/7352 [==============================] - 22s 3ms/step - loss: 0.9967 - acc: 0.5405 - val_loss: 0.9318 - val_acc: 0.5124\n",
      "Epoch 12/20\n",
      "7352/7352 [==============================] - 23s 3ms/step - loss: 0.8580 - acc: 0.5966 - val_loss: 0.8257 - val_acc: 0.5745\n",
      "Epoch 13/20\n",
      "7352/7352 [==============================] - 22s 3ms/step - loss: 0.8596 - acc: 0.5790 - val_loss: 1.2162 - val_acc: 0.4608\n",
      "Epoch 14/20\n",
      "7352/7352 [==============================] - 22s 3ms/step - loss: 0.8357 - acc: 0.5949 - val_loss: 0.7822 - val_acc: 0.6176\n",
      "Epoch 15/20\n",
      "7352/7352 [==============================] - 24s 3ms/step - loss: 0.7465 - acc: 0.6288 - val_loss: 0.7828 - val_acc: 0.6020\n",
      "Epoch 16/20\n",
      "7352/7352 [==============================] - 23s 3ms/step - loss: 0.7160 - acc: 0.6469 - val_loss: 0.7577 - val_acc: 0.6094\n",
      "Epoch 17/20\n",
      "7352/7352 [==============================] - 22s 3ms/step - loss: 0.7065 - acc: 0.6613 - val_loss: 0.7633 - val_acc: 0.6074\n",
      "Epoch 18/20\n",
      "7352/7352 [==============================] - 22s 3ms/step - loss: 0.7551 - acc: 0.6266 - val_loss: 0.7759 - val_acc: 0.6281\n",
      "Epoch 19/20\n",
      "7352/7352 [==============================] - 23s 3ms/step - loss: 0.7021 - acc: 0.6710 - val_loss: 0.7382 - val_acc: 0.6624\n",
      "Epoch 20/20\n",
      "7352/7352 [==============================] - 22s 3ms/step - loss: 0.6739 - acc: 0.6771 - val_loss: 0.7109 - val_acc: 0.6542\n",
      "2947/2947 [==============================] - 2s 514us/step\n",
      "[0.7109381460844155, 0.6542246352323727]\n"
     ]
    }
   ],
   "source": [
    "history = model.fit(X_train, Y_train, batch_size=batch_size, validation_data=(X_test, Y_test), epochs=epochs)\n",
    "score = model.evaluate(X_test, Y_test)\n",
    "print(score)"
   ]
  },
  {
   "cell_type": "code",
   "execution_count": 26,
   "metadata": {},
   "outputs": [],
   "source": [
    "# Compiling the model\n",
    "model.compile(loss='categorical_crossentropy',optimizer='rmsprop', metrics=['accuracy'])"
   ]
  },
  {
   "cell_type": "code",
   "execution_count": 28,
   "metadata": {
    "scrolled": true
   },
   "outputs": [
    {
     "name": "stdout",
     "output_type": "stream",
     "text": [
      "Train on 7352 samples, validate on 2947 samples\n",
      "Epoch 1/30\n",
      "7352/7352 [==============================] - 22s 3ms/step - loss: 0.2323 - acc: 0.9214 - val_loss: 0.5842 - val_acc: 0.8605\n",
      "Epoch 2/30\n",
      "7352/7352 [==============================] - 22s 3ms/step - loss: 0.2577 - acc: 0.9227 - val_loss: 0.5204 - val_acc: 0.8690\n",
      "Epoch 3/30\n",
      "7352/7352 [==============================] - 22s 3ms/step - loss: 0.2235 - acc: 0.9320 - val_loss: 0.6263 - val_acc: 0.8626\n",
      "Epoch 4/30\n",
      "7352/7352 [==============================] - 22s 3ms/step - loss: 0.1926 - acc: 0.9361 - val_loss: 0.4435 - val_acc: 0.8812\n",
      "Epoch 5/30\n",
      "7352/7352 [==============================] - 22s 3ms/step - loss: 0.1970 - acc: 0.9339 - val_loss: 0.5430 - val_acc: 0.8700\n",
      "Epoch 6/30\n",
      "7352/7352 [==============================] - 22s 3ms/step - loss: 0.2107 - acc: 0.9336 - val_loss: 0.6455 - val_acc: 0.8622\n",
      "Epoch 7/30\n",
      "7352/7352 [==============================] - 22s 3ms/step - loss: 0.2114 - acc: 0.9389 - val_loss: 0.5947 - val_acc: 0.8772\n",
      "Epoch 8/30\n",
      "7352/7352 [==============================] - 22s 3ms/step - loss: 0.1808 - acc: 0.9406 - val_loss: 0.5029 - val_acc: 0.8772\n",
      "Epoch 9/30\n",
      "7352/7352 [==============================] - 22s 3ms/step - loss: 0.2043 - acc: 0.9306 - val_loss: 0.6877 - val_acc: 0.8619\n",
      "Epoch 10/30\n",
      "7352/7352 [==============================] - 22s 3ms/step - loss: 0.1691 - acc: 0.9426 - val_loss: 0.4956 - val_acc: 0.8819\n",
      "Epoch 11/30\n",
      "7352/7352 [==============================] - 22s 3ms/step - loss: 0.1725 - acc: 0.9406 - val_loss: 0.5153 - val_acc: 0.8812\n",
      "Epoch 12/30\n",
      "7352/7352 [==============================] - 22s 3ms/step - loss: 0.1740 - acc: 0.9426 - val_loss: 0.4900 - val_acc: 0.8755\n",
      "Epoch 13/30\n",
      "7352/7352 [==============================] - 22s 3ms/step - loss: 0.1719 - acc: 0.9430 - val_loss: 0.4591 - val_acc: 0.8687\n",
      "Epoch 14/30\n",
      "7352/7352 [==============================] - 22s 3ms/step - loss: 0.1781 - acc: 0.9385 - val_loss: 0.4842 - val_acc: 0.8843\n",
      "Epoch 15/30\n",
      "7352/7352 [==============================] - 22s 3ms/step - loss: 0.1634 - acc: 0.9460 - val_loss: 0.5345 - val_acc: 0.8738\n",
      "Epoch 16/30\n",
      "7352/7352 [==============================] - 22s 3ms/step - loss: 0.1820 - acc: 0.9400 - val_loss: 0.4031 - val_acc: 0.8863\n",
      "Epoch 17/30\n",
      "7352/7352 [==============================] - 22s 3ms/step - loss: 0.1491 - acc: 0.9475 - val_loss: 0.4113 - val_acc: 0.8935\n",
      "Epoch 18/30\n",
      "7352/7352 [==============================] - 22s 3ms/step - loss: 0.1466 - acc: 0.9484 - val_loss: 0.4702 - val_acc: 0.8911\n",
      "Epoch 19/30\n",
      "7352/7352 [==============================] - 23s 3ms/step - loss: 0.1497 - acc: 0.9482 - val_loss: 0.3895 - val_acc: 0.9009\n",
      "Epoch 20/30\n",
      "7352/7352 [==============================] - 22s 3ms/step - loss: 0.1731 - acc: 0.9433 - val_loss: 0.4073 - val_acc: 0.9016\n",
      "Epoch 21/30\n",
      "7352/7352 [==============================] - 23s 3ms/step - loss: 0.1442 - acc: 0.9483 - val_loss: 0.4207 - val_acc: 0.8918\n",
      "Epoch 22/30\n",
      "7352/7352 [==============================] - 23s 3ms/step - loss: 0.1609 - acc: 0.9486 - val_loss: 0.3716 - val_acc: 0.8985\n",
      "Epoch 23/30\n",
      "7352/7352 [==============================] - 23s 3ms/step - loss: 0.1494 - acc: 0.9502 - val_loss: 0.5822 - val_acc: 0.8809\n",
      "Epoch 24/30\n",
      "7352/7352 [==============================] - 24s 3ms/step - loss: 0.1404 - acc: 0.9486 - val_loss: 0.5269 - val_acc: 0.8843\n",
      "Epoch 25/30\n",
      "7352/7352 [==============================] - 23s 3ms/step - loss: 0.1399 - acc: 0.9489 - val_loss: 0.4493 - val_acc: 0.8911\n",
      "Epoch 26/30\n",
      "7352/7352 [==============================] - 22s 3ms/step - loss: 0.1535 - acc: 0.9483 - val_loss: 0.4404 - val_acc: 0.8850\n",
      "Epoch 27/30\n",
      "7352/7352 [==============================] - 23s 3ms/step - loss: 0.1495 - acc: 0.9480 - val_loss: 0.4424 - val_acc: 0.8962\n",
      "Epoch 28/30\n",
      "7352/7352 [==============================] - 22s 3ms/step - loss: 0.1505 - acc: 0.9448 - val_loss: 0.5367 - val_acc: 0.8843\n",
      "Epoch 29/30\n",
      "7352/7352 [==============================] - 22s 3ms/step - loss: 0.1977 - acc: 0.9479 - val_loss: 0.4301 - val_acc: 0.8955\n",
      "Epoch 30/30\n",
      "7352/7352 [==============================] - 22s 3ms/step - loss: 0.2019 - acc: 0.9415 - val_loss: 0.4889 - val_acc: 0.8911\n",
      "2947/2947 [==============================] - 2s 520us/step\n",
      "[0.48891396308967605, 0.8910756701730573]\n"
     ]
    }
   ],
   "source": [
    "history = model.fit(X_train, Y_train, batch_size=batch_size, validation_data=(X_test, Y_test), epochs=30)\n",
    "score = model.evaluate(X_test, Y_test)\n",
    "print(score)"
   ]
  },
  {
   "cell_type": "markdown",
   "metadata": {},
   "source": [
    "# Dropout = 60% "
   ]
  },
  {
   "cell_type": "code",
   "execution_count": 30,
   "metadata": {},
   "outputs": [
    {
     "name": "stdout",
     "output_type": "stream",
     "text": [
      "_________________________________________________________________\n",
      "Layer (type)                 Output Shape              Param #   \n",
      "=================================================================\n",
      "lstm_5 (LSTM)                (None, 32)                5376      \n",
      "_________________________________________________________________\n",
      "dropout_5 (Dropout)          (None, 32)                0         \n",
      "_________________________________________________________________\n",
      "dense_5 (Dense)              (None, 6)                 198       \n",
      "=================================================================\n",
      "Total params: 5,574\n",
      "Trainable params: 5,574\n",
      "Non-trainable params: 0\n",
      "_________________________________________________________________\n"
     ]
    }
   ],
   "source": [
    "# Initialization\n",
    "model = Sequential()\n",
    "# configuring with parameters\n",
    "model.add(LSTM(units=32, input_shape=(timesteps, input_dim)))\n",
    "#Adding a dropout layer\n",
    "model.add(Dropout(0.6))\n",
    "#Adding dense layer\n",
    "model.add(Dense(n_classes, activation = 'sigmoid'))\n",
    "model.summary()\n",
    "# Compiling the model\n",
    "model.compile(loss='categorical_crossentropy',optimizer='rmsprop', metrics=['accuracy'])"
   ]
  },
  {
   "cell_type": "code",
   "execution_count": 32,
   "metadata": {
    "scrolled": false
   },
   "outputs": [
    {
     "name": "stdout",
     "output_type": "stream",
     "text": [
      "Train on 7352 samples, validate on 2947 samples\n",
      "Epoch 1/30\n",
      "7352/7352 [==============================] - 22s 3ms/step - loss: 0.2811 - acc: 0.9245 - val_loss: 0.4400 - val_acc: 0.8829\n",
      "Epoch 2/30\n",
      "7352/7352 [==============================] - 22s 3ms/step - loss: 0.2721 - acc: 0.9244 - val_loss: 0.6199 - val_acc: 0.8483\n",
      "Epoch 3/30\n",
      "7352/7352 [==============================] - 22s 3ms/step - loss: 0.2584 - acc: 0.9260 - val_loss: 0.4323 - val_acc: 0.8758\n",
      "Epoch 4/30\n",
      "7352/7352 [==============================] - 22s 3ms/step - loss: 0.4427 - acc: 0.8932 - val_loss: 0.4200 - val_acc: 0.8823\n",
      "Epoch 5/30\n",
      "7352/7352 [==============================] - 22s 3ms/step - loss: 0.2506 - acc: 0.9298 - val_loss: 0.4346 - val_acc: 0.8711\n",
      "Epoch 6/30\n",
      "7352/7352 [==============================] - 22s 3ms/step - loss: 0.2438 - acc: 0.9298 - val_loss: 0.4508 - val_acc: 0.8799\n",
      "Epoch 7/30\n",
      "7352/7352 [==============================] - 22s 3ms/step - loss: 0.2356 - acc: 0.9314 - val_loss: 0.4223 - val_acc: 0.8802\n",
      "Epoch 8/30\n",
      "7352/7352 [==============================] - 26s 4ms/step - loss: 0.2915 - acc: 0.9253 - val_loss: 0.3917 - val_acc: 0.8873\n",
      "Epoch 9/30\n",
      "7352/7352 [==============================] - 23s 3ms/step - loss: 0.2431 - acc: 0.9271 - val_loss: 0.5494 - val_acc: 0.8252\n",
      "Epoch 10/30\n",
      "7352/7352 [==============================] - 27s 4ms/step - loss: 0.2275 - acc: 0.9339 - val_loss: 0.4168 - val_acc: 0.8843\n",
      "Epoch 11/30\n",
      "7352/7352 [==============================] - 26s 4ms/step - loss: 0.2252 - acc: 0.9298 - val_loss: 0.3852 - val_acc: 0.8887\n",
      "Epoch 12/30\n",
      "7352/7352 [==============================] - 23s 3ms/step - loss: 0.2333 - acc: 0.9351 - val_loss: 0.4956 - val_acc: 0.8870\n",
      "Epoch 13/30\n",
      "7352/7352 [==============================] - 23s 3ms/step - loss: 0.2080 - acc: 0.9414 - val_loss: 0.4059 - val_acc: 0.8901\n",
      "Epoch 14/30\n",
      "7352/7352 [==============================] - 25s 3ms/step - loss: 0.2685 - acc: 0.9305 - val_loss: 0.4207 - val_acc: 0.8884\n",
      "Epoch 15/30\n",
      "7352/7352 [==============================] - 23s 3ms/step - loss: 0.2119 - acc: 0.9347 - val_loss: 0.5143 - val_acc: 0.8731\n",
      "Epoch 16/30\n",
      "7352/7352 [==============================] - 23s 3ms/step - loss: 0.1863 - acc: 0.9410 - val_loss: 0.3894 - val_acc: 0.8962\n",
      "Epoch 17/30\n",
      "7352/7352 [==============================] - 22s 3ms/step - loss: 0.1908 - acc: 0.9411 - val_loss: 0.3776 - val_acc: 0.8792\n",
      "Epoch 18/30\n",
      "7352/7352 [==============================] - 22s 3ms/step - loss: 0.1898 - acc: 0.9418 - val_loss: 0.3793 - val_acc: 0.8975\n",
      "Epoch 19/30\n",
      "7352/7352 [==============================] - 22s 3ms/step - loss: 0.1964 - acc: 0.9396 - val_loss: 0.5139 - val_acc: 0.8775\n",
      "Epoch 20/30\n",
      "7352/7352 [==============================] - 22s 3ms/step - loss: 0.1911 - acc: 0.9427 - val_loss: 0.4563 - val_acc: 0.8812\n",
      "Epoch 21/30\n",
      "7352/7352 [==============================] - 22s 3ms/step - loss: 0.1934 - acc: 0.9415 - val_loss: 0.3890 - val_acc: 0.8989\n",
      "Epoch 22/30\n",
      "7352/7352 [==============================] - 22s 3ms/step - loss: 0.1850 - acc: 0.9442 - val_loss: 0.4422 - val_acc: 0.8989\n",
      "Epoch 23/30\n",
      "7352/7352 [==============================] - 23s 3ms/step - loss: 0.2239 - acc: 0.9385 - val_loss: 0.4873 - val_acc: 0.8938\n",
      "Epoch 24/30\n",
      "7352/7352 [==============================] - 23s 3ms/step - loss: 0.2082 - acc: 0.9423 - val_loss: 0.3743 - val_acc: 0.9019\n",
      "Epoch 25/30\n",
      "7352/7352 [==============================] - 23s 3ms/step - loss: 0.1725 - acc: 0.9431 - val_loss: 0.6799 - val_acc: 0.8470\n",
      "Epoch 26/30\n",
      "7352/7352 [==============================] - 23s 3ms/step - loss: 0.1925 - acc: 0.9460 - val_loss: 0.3970 - val_acc: 0.8809\n",
      "Epoch 27/30\n",
      "7352/7352 [==============================] - 22s 3ms/step - loss: 0.1831 - acc: 0.9431 - val_loss: 0.5824 - val_acc: 0.8622\n",
      "Epoch 28/30\n",
      "7352/7352 [==============================] - 24s 3ms/step - loss: 0.1657 - acc: 0.9479 - val_loss: 0.4361 - val_acc: 0.8907\n",
      "Epoch 29/30\n",
      "7352/7352 [==============================] - 22s 3ms/step - loss: 0.1937 - acc: 0.9446 - val_loss: 0.3363 - val_acc: 0.9002\n",
      "Epoch 30/30\n",
      "7352/7352 [==============================] - 22s 3ms/step - loss: 0.1810 - acc: 0.9440 - val_loss: 0.3395 - val_acc: 0.8941\n",
      "2947/2947 [==============================] - 2s 511us/step\n",
      "[0.33953921478739224, 0.8941296233457754]\n"
     ]
    }
   ],
   "source": [
    "history = model.fit(X_train, Y_train, batch_size=batch_size, validation_data=(X_test, Y_test), epochs=30)\n",
    "score = model.evaluate(X_test, Y_test)\n",
    "print(score)"
   ]
  },
  {
   "cell_type": "markdown",
   "metadata": {},
   "source": [
    "## 2 Layer LSTM:"
   ]
  },
  {
   "cell_type": "code",
   "execution_count": 62,
   "metadata": {},
   "outputs": [
    {
     "name": "stdout",
     "output_type": "stream",
     "text": [
      "_________________________________________________________________\n",
      "Layer (type)                 Output Shape              Param #   \n",
      "=================================================================\n",
      "lstm_46 (LSTM)               (None, 128, 32)           5376      \n",
      "_________________________________________________________________\n",
      "dropout_22 (Dropout)         (None, 128, 32)           0         \n",
      "_________________________________________________________________\n",
      "lstm_47 (LSTM)               (None, 32)                8320      \n",
      "_________________________________________________________________\n",
      "dropout_23 (Dropout)         (None, 32)                0         \n",
      "_________________________________________________________________\n",
      "dense_10 (Dense)             (None, 6)                 198       \n",
      "=================================================================\n",
      "Total params: 13,894\n",
      "Trainable params: 13,894\n",
      "Non-trainable params: 0\n",
      "_________________________________________________________________\n"
     ]
    }
   ],
   "source": [
    "# Initialization\n",
    "model = Sequential()\n",
    "model.add(LSTM(units=32, input_shape=(timesteps, input_dim), return_sequences=True))\n",
    "model.add(Dropout(0.5))\n",
    "\n",
    "model.add(LSTM(units= 32))\n",
    "model.add(Dropout(0.5))\n",
    "\n",
    "model.add(Dense(n_classes, activation = 'sigmoid'))\n",
    "model.summary()\n",
    "# Compiling the model\n",
    "model.compile(loss='categorical_crossentropy',optimizer='rmsprop', metrics=['accuracy'])"
   ]
  },
  {
   "cell_type": "code",
   "execution_count": 63,
   "metadata": {
    "scrolled": false
   },
   "outputs": [
    {
     "name": "stdout",
     "output_type": "stream",
     "text": [
      "Train on 7352 samples, validate on 2947 samples\n",
      "Epoch 1/30\n",
      "7352/7352 [==============================] - 57s 8ms/step - loss: 1.3566 - acc: 0.4430 - val_loss: 1.1989 - val_acc: 0.4503\n",
      "Epoch 2/30\n",
      "7352/7352 [==============================] - 51s 7ms/step - loss: 1.0793 - acc: 0.5257 - val_loss: 1.2094 - val_acc: 0.5046\n",
      "Epoch 3/30\n",
      "7352/7352 [==============================] - 51s 7ms/step - loss: 0.9271 - acc: 0.6281 - val_loss: 0.8360 - val_acc: 0.6973\n",
      "Epoch 4/30\n",
      "7352/7352 [==============================] - 51s 7ms/step - loss: 0.7318 - acc: 0.7189 - val_loss: 0.6465 - val_acc: 0.7340\n",
      "Epoch 5/30\n",
      "7352/7352 [==============================] - 52s 7ms/step - loss: 0.6495 - acc: 0.7421 - val_loss: 0.6039 - val_acc: 0.7652\n",
      "Epoch 6/30\n",
      "7352/7352 [==============================] - 51s 7ms/step - loss: 0.5609 - acc: 0.7637 - val_loss: 0.6557 - val_acc: 0.7503\n",
      "Epoch 7/30\n",
      "7352/7352 [==============================] - 136s 19ms/step - loss: 0.5716 - acc: 0.7567 - val_loss: 0.5240 - val_acc: 0.7689\n",
      "Epoch 8/30\n",
      "7352/7352 [==============================] - 187s 25ms/step - loss: 0.4841 - acc: 0.7947 - val_loss: 0.4357 - val_acc: 0.8208\n",
      "Epoch 9/30\n",
      "7352/7352 [==============================] - 152s 21ms/step - loss: 0.4584 - acc: 0.8283 - val_loss: 0.4714 - val_acc: 0.8364\n",
      "Epoch 10/30\n",
      "7352/7352 [==============================] - 66s 9ms/step - loss: 0.4124 - acc: 0.8755 - val_loss: 0.4248 - val_acc: 0.8619\n",
      "Epoch 11/30\n",
      "7352/7352 [==============================] - 56s 8ms/step - loss: 0.3406 - acc: 0.9105 - val_loss: 0.5061 - val_acc: 0.8714\n",
      "Epoch 12/30\n",
      "7352/7352 [==============================] - 54s 7ms/step - loss: 0.2834 - acc: 0.9260 - val_loss: 0.3291 - val_acc: 0.9023\n",
      "Epoch 13/30\n",
      "7352/7352 [==============================] - 55s 7ms/step - loss: 0.2911 - acc: 0.9189 - val_loss: 0.3876 - val_acc: 0.8856\n",
      "Epoch 14/30\n",
      "7352/7352 [==============================] - 55s 7ms/step - loss: 0.2416 - acc: 0.9319 - val_loss: 0.3373 - val_acc: 0.8999\n",
      "Epoch 15/30\n",
      "7352/7352 [==============================] - 56s 8ms/step - loss: 0.2189 - acc: 0.9353 - val_loss: 0.4129 - val_acc: 0.8914\n",
      "Epoch 16/30\n",
      "7352/7352 [==============================] - 56s 8ms/step - loss: 0.1992 - acc: 0.9410 - val_loss: 0.3357 - val_acc: 0.9040\n",
      "Epoch 17/30\n",
      "7352/7352 [==============================] - 56s 8ms/step - loss: 0.2144 - acc: 0.9408 - val_loss: 0.3307 - val_acc: 0.8951\n",
      "Epoch 18/30\n",
      "7352/7352 [==============================] - 56s 8ms/step - loss: 0.2022 - acc: 0.9425 - val_loss: 0.3591 - val_acc: 0.9019\n",
      "Epoch 19/30\n",
      "7352/7352 [==============================] - 55s 8ms/step - loss: 0.1902 - acc: 0.9444 - val_loss: 0.3207 - val_acc: 0.9087\n",
      "Epoch 20/30\n",
      "7352/7352 [==============================] - 56s 8ms/step - loss: 0.1776 - acc: 0.9472 - val_loss: 0.3916 - val_acc: 0.9084\n",
      "Epoch 21/30\n",
      "7352/7352 [==============================] - 55s 7ms/step - loss: 0.1702 - acc: 0.9459 - val_loss: 0.3491 - val_acc: 0.9067\n",
      "Epoch 22/30\n",
      "7352/7352 [==============================] - 52s 7ms/step - loss: 0.1627 - acc: 0.9459 - val_loss: 0.3141 - val_acc: 0.9128\n",
      "Epoch 23/30\n",
      "7352/7352 [==============================] - 56s 8ms/step - loss: 0.1637 - acc: 0.9490 - val_loss: 0.3061 - val_acc: 0.9060\n",
      "Epoch 24/30\n",
      "7352/7352 [==============================] - 56s 8ms/step - loss: 0.1573 - acc: 0.9480 - val_loss: 0.3335 - val_acc: 0.9087\n",
      "Epoch 25/30\n",
      "7352/7352 [==============================] - 52s 7ms/step - loss: 0.1653 - acc: 0.9456 - val_loss: 0.3352 - val_acc: 0.9101\n",
      "Epoch 26/30\n",
      "7352/7352 [==============================] - 54s 7ms/step - loss: 0.1668 - acc: 0.9457 - val_loss: 0.4254 - val_acc: 0.9030\n",
      "Epoch 27/30\n",
      "7352/7352 [==============================] - 57s 8ms/step - loss: 0.1456 - acc: 0.9536 - val_loss: 0.3417 - val_acc: 0.9077\n",
      "Epoch 28/30\n",
      "7352/7352 [==============================] - 52s 7ms/step - loss: 0.1411 - acc: 0.9527 - val_loss: 0.3265 - val_acc: 0.9087\n",
      "Epoch 29/30\n",
      "7352/7352 [==============================] - 52s 7ms/step - loss: 0.1787 - acc: 0.9463 - val_loss: 0.3202 - val_acc: 0.9131\n",
      "Epoch 30/30\n",
      "7352/7352 [==============================] - 51s 7ms/step - loss: 0.1393 - acc: 0.9510 - val_loss: 0.3888 - val_acc: 0.9043\n",
      "2947/2947 [==============================] - 3s 1ms/step\n",
      "[0.3888279681393048, 0.9043094672548354]\n"
     ]
    }
   ],
   "source": [
    "history = model.fit(X_train, Y_train, batch_size=batch_size, validation_data=(X_test, Y_test), epochs=30)\n",
    "score = model.evaluate(X_test, Y_test)\n",
    "print(score)"
   ]
  },
  {
   "cell_type": "markdown",
   "metadata": {},
   "source": [
    "## 2 Layer LSTM with 70% Dropout:"
   ]
  },
  {
   "cell_type": "code",
   "execution_count": 69,
   "metadata": {},
   "outputs": [
    {
     "name": "stdout",
     "output_type": "stream",
     "text": [
      "_________________________________________________________________\n",
      "Layer (type)                 Output Shape              Param #   \n",
      "=================================================================\n",
      "lstm_50 (LSTM)               (None, 128, 32)           5376      \n",
      "_________________________________________________________________\n",
      "dropout_26 (Dropout)         (None, 128, 32)           0         \n",
      "_________________________________________________________________\n",
      "lstm_51 (LSTM)               (None, 32)                8320      \n",
      "_________________________________________________________________\n",
      "dropout_27 (Dropout)         (None, 32)                0         \n",
      "_________________________________________________________________\n",
      "dense_12 (Dense)             (None, 6)                 198       \n",
      "=================================================================\n",
      "Total params: 13,894\n",
      "Trainable params: 13,894\n",
      "Non-trainable params: 0\n",
      "_________________________________________________________________\n"
     ]
    }
   ],
   "source": [
    "# Initialization\n",
    "model = Sequential()\n",
    "model.add(LSTM(units=32, input_shape=(timesteps, input_dim), return_sequences=True))\n",
    "model.add(Dropout(0.7))\n",
    "\n",
    "model.add(LSTM(units= 32))\n",
    "model.add(Dropout(0.7))\n",
    "\n",
    "model.add(Dense(n_classes, activation = 'sigmoid'))\n",
    "model.summary()\n",
    "# Compiling the model\n",
    "model.compile(loss='categorical_crossentropy',optimizer='rmsprop', metrics=['accuracy'])"
   ]
  },
  {
   "cell_type": "code",
   "execution_count": 71,
   "metadata": {
    "scrolled": false
   },
   "outputs": [
    {
     "name": "stdout",
     "output_type": "stream",
     "text": [
      "Train on 7352 samples, validate on 2947 samples\n",
      "Epoch 1/40\n",
      "7352/7352 [==============================] - 54s 7ms/step - loss: 1.2440 - acc: 0.5027 - val_loss: 1.0186 - val_acc: 0.5382\n",
      "Epoch 2/40\n",
      "7352/7352 [==============================] - 65s 9ms/step - loss: 0.9628 - acc: 0.5875 - val_loss: 0.8396 - val_acc: 0.6308\n",
      "Epoch 3/40\n",
      "7352/7352 [==============================] - 64s 9ms/step - loss: 0.8538 - acc: 0.6249 - val_loss: 0.7622 - val_acc: 0.6481\n",
      "Epoch 4/40\n",
      "7352/7352 [==============================] - 65s 9ms/step - loss: 0.7820 - acc: 0.6579 - val_loss: 0.6884 - val_acc: 0.6498\n",
      "Epoch 5/40\n",
      "7352/7352 [==============================] - 66s 9ms/step - loss: 0.7334 - acc: 0.6766 - val_loss: 0.7790 - val_acc: 0.6630\n",
      "Epoch 6/40\n",
      "7352/7352 [==============================] - 72s 10ms/step - loss: 0.6670 - acc: 0.7101 - val_loss: 0.6182 - val_acc: 0.7296\n",
      "Epoch 7/40\n",
      "7352/7352 [==============================] - 67s 9ms/step - loss: 0.6133 - acc: 0.7397 - val_loss: 0.6160 - val_acc: 0.7180\n",
      "Epoch 8/40\n",
      "7352/7352 [==============================] - 67s 9ms/step - loss: 0.5662 - acc: 0.7662 - val_loss: 0.5968 - val_acc: 0.7224\n",
      "Epoch 9/40\n",
      "7352/7352 [==============================] - 59s 8ms/step - loss: 0.5093 - acc: 0.7888 - val_loss: 0.6639 - val_acc: 0.7092\n",
      "Epoch 10/40\n",
      "7352/7352 [==============================] - 63s 9ms/step - loss: 0.4953 - acc: 0.7964 - val_loss: 0.4795 - val_acc: 0.7536\n",
      "Epoch 11/40\n",
      "7352/7352 [==============================] - 55s 7ms/step - loss: 0.4590 - acc: 0.8283 - val_loss: 0.5342 - val_acc: 0.8426\n",
      "Epoch 12/40\n",
      "7352/7352 [==============================] - 62s 8ms/step - loss: 0.4296 - acc: 0.8489 - val_loss: 0.7624 - val_acc: 0.8212\n",
      "Epoch 13/40\n",
      "7352/7352 [==============================] - 66s 9ms/step - loss: 0.4182 - acc: 0.8658 - val_loss: 0.5040 - val_acc: 0.8809\n",
      "Epoch 14/40\n",
      "7352/7352 [==============================] - 61s 8ms/step - loss: 0.3962 - acc: 0.8754 - val_loss: 0.5703 - val_acc: 0.8507\n",
      "Epoch 15/40\n",
      "7352/7352 [==============================] - 58s 8ms/step - loss: 0.3489 - acc: 0.8961 - val_loss: 0.5582 - val_acc: 0.8697\n",
      "Epoch 16/40\n",
      "7352/7352 [==============================] - 64s 9ms/step - loss: 0.3322 - acc: 0.9095 - val_loss: 0.4556 - val_acc: 0.8863\n",
      "Epoch 17/40\n",
      "7352/7352 [==============================] - 56s 8ms/step - loss: 0.2963 - acc: 0.9158 - val_loss: 0.4575 - val_acc: 0.8972\n",
      "Epoch 18/40\n",
      "7352/7352 [==============================] - 61s 8ms/step - loss: 0.2793 - acc: 0.9214 - val_loss: 0.4377 - val_acc: 0.8928\n",
      "Epoch 19/40\n",
      "7352/7352 [==============================] - 62s 8ms/step - loss: 0.2545 - acc: 0.9255 - val_loss: 0.5380 - val_acc: 0.8870\n",
      "Epoch 20/40\n",
      "7352/7352 [==============================] - 66s 9ms/step - loss: 0.2603 - acc: 0.9251 - val_loss: 0.4901 - val_acc: 0.8948\n",
      "Epoch 21/40\n",
      "7352/7352 [==============================] - 69s 9ms/step - loss: 0.2383 - acc: 0.9306 - val_loss: 0.3836 - val_acc: 0.9104\n",
      "Epoch 22/40\n",
      "7352/7352 [==============================] - 64s 9ms/step - loss: 0.2272 - acc: 0.9314 - val_loss: 0.4411 - val_acc: 0.8975\n",
      "Epoch 23/40\n",
      "7352/7352 [==============================] - 62s 8ms/step - loss: 0.2084 - acc: 0.9336 - val_loss: 0.3428 - val_acc: 0.9087\n",
      "Epoch 24/40\n",
      "7352/7352 [==============================] - 63s 9ms/step - loss: 0.2772 - acc: 0.9294 - val_loss: 0.6017 - val_acc: 0.8856\n",
      "Epoch 25/40\n",
      "7352/7352 [==============================] - 65s 9ms/step - loss: 0.2116 - acc: 0.9365 - val_loss: 0.4807 - val_acc: 0.8931\n",
      "Epoch 26/40\n",
      "7352/7352 [==============================] - 63s 9ms/step - loss: 0.2083 - acc: 0.9402 - val_loss: 0.4079 - val_acc: 0.9063\n",
      "Epoch 27/40\n",
      "7352/7352 [==============================] - 66s 9ms/step - loss: 0.2143 - acc: 0.9365 - val_loss: 0.3932 - val_acc: 0.9013\n",
      "Epoch 28/40\n",
      "7352/7352 [==============================] - 69s 9ms/step - loss: 0.1989 - acc: 0.9362 - val_loss: 0.4138 - val_acc: 0.9040\n",
      "Epoch 29/40\n",
      "7352/7352 [==============================] - 70s 10ms/step - loss: 0.2029 - acc: 0.9357 - val_loss: 0.4971 - val_acc: 0.8992\n",
      "Epoch 30/40\n",
      "7352/7352 [==============================] - 74s 10ms/step - loss: 0.1980 - acc: 0.9365 - val_loss: 0.3845 - val_acc: 0.9016\n",
      "Epoch 31/40\n",
      "7352/7352 [==============================] - 63s 9ms/step - loss: 0.2150 - acc: 0.9354 - val_loss: 0.3216 - val_acc: 0.9145\n",
      "Epoch 32/40\n",
      "7352/7352 [==============================] - 65s 9ms/step - loss: 0.1939 - acc: 0.9389 - val_loss: 0.4297 - val_acc: 0.8996\n",
      "Epoch 33/40\n",
      "7352/7352 [==============================] - 68s 9ms/step - loss: 0.1944 - acc: 0.9361 - val_loss: 0.3912 - val_acc: 0.9125\n",
      "Epoch 34/40\n",
      "7352/7352 [==============================] - 64s 9ms/step - loss: 0.1848 - acc: 0.9418 - val_loss: 0.4627 - val_acc: 0.9019\n",
      "Epoch 35/40\n",
      "7352/7352 [==============================] - 72s 10ms/step - loss: 0.1801 - acc: 0.9416 - val_loss: 0.5910 - val_acc: 0.8945\n",
      "Epoch 36/40\n",
      "7352/7352 [==============================] - 62s 8ms/step - loss: 0.1981 - acc: 0.9407 - val_loss: 0.4079 - val_acc: 0.9091\n",
      "Epoch 37/40\n",
      "7352/7352 [==============================] - 63s 9ms/step - loss: 0.1946 - acc: 0.9365 - val_loss: 0.4113 - val_acc: 0.9155\n",
      "Epoch 38/40\n",
      "7352/7352 [==============================] - 60s 8ms/step - loss: 0.1764 - acc: 0.9402 - val_loss: 0.4933 - val_acc: 0.9087\n",
      "Epoch 39/40\n",
      "7352/7352 [==============================] - 60s 8ms/step - loss: 0.1854 - acc: 0.9385 - val_loss: 0.5461 - val_acc: 0.9057\n",
      "Epoch 40/40\n",
      "7352/7352 [==============================] - 55s 7ms/step - loss: 0.1949 - acc: 0.9366 - val_loss: 0.5007 - val_acc: 0.9087\n",
      "2947/2947 [==============================] - 4s 1ms/step\n",
      "[0.5006568275242099, 0.9087207329487614]\n"
     ]
    }
   ],
   "source": [
    "history = model.fit(X_train, Y_train, batch_size=batch_size, validation_data=(X_test, Y_test), epochs=40)\n",
    "score = model.evaluate(X_test, Y_test)\n",
    "print(score)"
   ]
  },
  {
   "cell_type": "markdown",
   "metadata": {},
   "source": [
    "## 2 layer LSTM with 64 units and 70 % Dropout:"
   ]
  },
  {
   "cell_type": "code",
   "execution_count": 72,
   "metadata": {},
   "outputs": [
    {
     "name": "stdout",
     "output_type": "stream",
     "text": [
      "_________________________________________________________________\n",
      "Layer (type)                 Output Shape              Param #   \n",
      "=================================================================\n",
      "lstm_52 (LSTM)               (None, 128, 64)           18944     \n",
      "_________________________________________________________________\n",
      "dropout_28 (Dropout)         (None, 128, 64)           0         \n",
      "_________________________________________________________________\n",
      "lstm_53 (LSTM)               (None, 32)                12416     \n",
      "_________________________________________________________________\n",
      "dropout_29 (Dropout)         (None, 32)                0         \n",
      "_________________________________________________________________\n",
      "dense_13 (Dense)             (None, 6)                 198       \n",
      "=================================================================\n",
      "Total params: 31,558\n",
      "Trainable params: 31,558\n",
      "Non-trainable params: 0\n",
      "_________________________________________________________________\n"
     ]
    }
   ],
   "source": [
    "# Initialization\n",
    "model = Sequential()\n",
    "model.add(LSTM(units=64, input_shape=(timesteps, input_dim), return_sequences=True))\n",
    "model.add(Dropout(0.7))\n",
    "\n",
    "model.add(LSTM(units= 32))\n",
    "model.add(Dropout(0.7))\n",
    "\n",
    "model.add(Dense(n_classes, activation = 'sigmoid'))\n",
    "model.summary()\n",
    "# Compiling the model\n",
    "model.compile(loss='categorical_crossentropy',optimizer='rmsprop', metrics=['accuracy'])"
   ]
  },
  {
   "cell_type": "code",
   "execution_count": 73,
   "metadata": {
    "scrolled": false
   },
   "outputs": [
    {
     "name": "stdout",
     "output_type": "stream",
     "text": [
      "Train on 7352 samples, validate on 2947 samples\n",
      "Epoch 1/30\n",
      "7352/7352 [==============================] - 78s 11ms/step - loss: 1.3609 - acc: 0.4445 - val_loss: 1.1298 - val_acc: 0.4751\n",
      "Epoch 2/30\n",
      "7352/7352 [==============================] - 69s 9ms/step - loss: 1.0889 - acc: 0.5419 - val_loss: 0.9166 - val_acc: 0.5599\n",
      "Epoch 3/30\n",
      "7352/7352 [==============================] - 77s 10ms/step - loss: 0.9179 - acc: 0.6038 - val_loss: 0.8269 - val_acc: 0.5925\n",
      "Epoch 4/30\n",
      "7352/7352 [==============================] - 66s 9ms/step - loss: 0.9177 - acc: 0.5967 - val_loss: 1.1375 - val_acc: 0.5053\n",
      "Epoch 5/30\n",
      "7352/7352 [==============================] - 64s 9ms/step - loss: 0.7997 - acc: 0.6332 - val_loss: 0.8154 - val_acc: 0.6125\n",
      "Epoch 6/30\n",
      "7352/7352 [==============================] - 64s 9ms/step - loss: 0.7841 - acc: 0.6427 - val_loss: 0.7719 - val_acc: 0.6132\n",
      "Epoch 7/30\n",
      "7352/7352 [==============================] - 64s 9ms/step - loss: 0.7570 - acc: 0.6423 - val_loss: 0.7720 - val_acc: 0.6033\n",
      "Epoch 8/30\n",
      "7352/7352 [==============================] - 67s 9ms/step - loss: 0.8051 - acc: 0.6454 - val_loss: 0.7194 - val_acc: 0.6159\n",
      "Epoch 9/30\n",
      "7352/7352 [==============================] - 64s 9ms/step - loss: 0.6825 - acc: 0.6794 - val_loss: 0.6660 - val_acc: 0.6172\n",
      "Epoch 10/30\n",
      "7352/7352 [==============================] - 64s 9ms/step - loss: 0.6444 - acc: 0.6934 - val_loss: 0.6641 - val_acc: 0.7112\n",
      "Epoch 11/30\n",
      "7352/7352 [==============================] - 64s 9ms/step - loss: 0.6325 - acc: 0.7108 - val_loss: 0.6511 - val_acc: 0.7475\n",
      "Epoch 12/30\n",
      "7352/7352 [==============================] - 64s 9ms/step - loss: 0.6067 - acc: 0.7363 - val_loss: 0.7106 - val_acc: 0.7530\n",
      "Epoch 13/30\n",
      "7352/7352 [==============================] - 70s 10ms/step - loss: 0.6442 - acc: 0.7402 - val_loss: 0.6517 - val_acc: 0.7268\n",
      "Epoch 14/30\n",
      "7352/7352 [==============================] - 72s 10ms/step - loss: 0.5429 - acc: 0.7745 - val_loss: 0.6877 - val_acc: 0.7414\n",
      "Epoch 15/30\n",
      "7352/7352 [==============================] - 69s 9ms/step - loss: 0.4863 - acc: 0.7836 - val_loss: 0.5458 - val_acc: 0.7635\n",
      "Epoch 16/30\n",
      "7352/7352 [==============================] - 72s 10ms/step - loss: 0.4788 - acc: 0.7899 - val_loss: 0.5454 - val_acc: 0.7625\n",
      "Epoch 17/30\n",
      "7352/7352 [==============================] - 74s 10ms/step - loss: 0.4548 - acc: 0.7947 - val_loss: 0.6002 - val_acc: 0.7601\n",
      "Epoch 18/30\n",
      "7352/7352 [==============================] - 75s 10ms/step - loss: 0.4715 - acc: 0.7979 - val_loss: 0.5588 - val_acc: 0.7716\n",
      "Epoch 19/30\n",
      "7352/7352 [==============================] - 72s 10ms/step - loss: 0.4382 - acc: 0.8016 - val_loss: 0.6514 - val_acc: 0.7699\n",
      "Epoch 20/30\n",
      "7352/7352 [==============================] - 75s 10ms/step - loss: 0.4247 - acc: 0.8234 - val_loss: 0.5494 - val_acc: 0.7954\n",
      "Epoch 21/30\n",
      "7352/7352 [==============================] - 74s 10ms/step - loss: 0.4077 - acc: 0.8377 - val_loss: 0.4687 - val_acc: 0.8897\n",
      "Epoch 22/30\n",
      "7352/7352 [==============================] - 69s 9ms/step - loss: 0.3558 - acc: 0.8943 - val_loss: 0.3861 - val_acc: 0.8979\n",
      "Epoch 23/30\n",
      "7352/7352 [==============================] - 67s 9ms/step - loss: 0.3354 - acc: 0.9071 - val_loss: 0.4166 - val_acc: 0.9030\n",
      "Epoch 24/30\n",
      "7352/7352 [==============================] - 67s 9ms/step - loss: 0.3153 - acc: 0.9106 - val_loss: 0.4584 - val_acc: 0.8731\n",
      "Epoch 25/30\n",
      "7352/7352 [==============================] - 67s 9ms/step - loss: 0.2710 - acc: 0.9230 - val_loss: 0.3220 - val_acc: 0.9080\n",
      "Epoch 26/30\n",
      "7352/7352 [==============================] - 67s 9ms/step - loss: 0.2505 - acc: 0.9210 - val_loss: 0.2856 - val_acc: 0.9138\n",
      "Epoch 27/30\n",
      "7352/7352 [==============================] - 67s 9ms/step - loss: 0.2474 - acc: 0.9286 - val_loss: 0.2932 - val_acc: 0.9097\n",
      "Epoch 28/30\n",
      "7352/7352 [==============================] - 66s 9ms/step - loss: 0.2320 - acc: 0.9298 - val_loss: 0.3437 - val_acc: 0.9026\n",
      "Epoch 29/30\n",
      "7352/7352 [==============================] - 67s 9ms/step - loss: 0.2474 - acc: 0.9302 - val_loss: 0.3177 - val_acc: 0.9135\n",
      "Epoch 30/30\n",
      "7352/7352 [==============================] - 66s 9ms/step - loss: 0.2365 - acc: 0.9312 - val_loss: 0.3265 - val_acc: 0.9169\n",
      "2947/2947 [==============================] - 5s 2ms/step\n",
      "[0.3265414497932831, 0.9168646080760094]\n"
     ]
    }
   ],
   "source": [
    "history = model.fit(X_train, Y_train, batch_size=batch_size, validation_data=(X_test, Y_test), epochs=30)\n",
    "score = model.evaluate(X_test, Y_test)\n",
    "print(score)"
   ]
  },
  {
   "cell_type": "markdown",
   "metadata": {},
   "source": [
    "## Conclusion:"
   ]
  },
  {
   "cell_type": "code",
   "execution_count": null,
   "metadata": {},
   "outputs": [],
   "source": [
    "The best accuracy that we could get using LSTM model is 91.6 %. We got this using 2 layered LSTM with "
   ]
  }
 ],
 "metadata": {
  "accelerator": "GPU",
  "colab": {
   "name": "hact.ipynb",
   "provenance": [],
   "version": "0.3.2"
  },
  "kernelspec": {
   "display_name": "Python 3",
   "language": "python",
   "name": "python3"
  },
  "language_info": {
   "codemirror_mode": {
    "name": "ipython",
    "version": 3
   },
   "file_extension": ".py",
   "mimetype": "text/x-python",
   "name": "python",
   "nbconvert_exporter": "python",
   "pygments_lexer": "ipython3",
   "version": "3.6.4"
  }
 },
 "nbformat": 4,
 "nbformat_minor": 1
}
